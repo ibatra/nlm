{
 "cells": [
  {
   "cell_type": "markdown",
   "metadata": {},
   "source": [
    "# Gated Convolutional Networks"
   ]
  },
  {
   "cell_type": "markdown",
   "metadata": {},
   "source": [
    "Paper link: https://arxiv.org/pdf/1612.08083.pdf\n",
    "\n",
    "I like the ideas of stacked convolutions which is better explained by the GIF below."
   ]
  },
  {
   "cell_type": "markdown",
   "metadata": {},
   "source": [
    "<img src=\"gcnn.gif\">"
   ]
  },
  {
   "cell_type": "code",
   "execution_count": null,
   "metadata": {},
   "outputs": [],
   "source": [
    "import collections\n",
    "import random\n",
    "\n",
    "import torch\n",
    "import torch.nn as nn\n",
    "import torch.nn.functional as F\n",
    "\n",
    "from utils import read_words, create_batches, to_var"
   ]
  },
  {
   "cell_type": "markdown",
   "metadata": {},
   "source": [
    "The idea here is to create a stack of convolution layers depending upon the sequence length.\n",
    "Here I have zero-padded the sentence with $k - 1$ times where $k$ is the kernel size.\n",
    "That way it does not see the initial words like RNNs.\n",
    "\n",
    "There will be two sets of convolution operations.\n",
    "\n",
    "One is defined for gates ($A$) and other is defined without gates ($B$).\n",
    "\n",
    "Once stack convolutions are done, we will concatenate those two operations with gating.\n",
    "\n",
    "$h_i = A_i \\times \\sigma(B_i)$ for every $i$ layer.\n",
    "\n",
    "Here, $\\times$ is element-wise multiplication and $\\sigma$ is sigmoid.\n",
    "\n",
    "To avoid loss of gradients, I have also included the idea of resnets here as well."
   ]
  },
  {
   "cell_type": "code",
   "execution_count": null,
   "metadata": {},
   "outputs": [],
   "source": [
    "class GatedConvNet(nn.Module):\n",
    "    \n",
    "    def __init__(self, seq_len, vocab_size, embed_size, n_layers, kernel_size, num_layers, res_block_count):\n",
    "        super(GatedConvNet, self).__init__()\n",
    "        \n",
    "        # create embedding matrix\n",
    "        self.embedding = nn.Embedding(vocab_size, embed_size)\n",
    "        \n",
    "        # first entry of convolutions\n",
    "        self.first_conv = nn.Conv2d(1, num_filters, kernel, padding=(2, 0))\n",
    "        \n",
    "        # add bias to first convolutional layer\n",
    "        self.bias_first_conv = nn.Parameter(torch.randn(1, num_filters, 1, 1))\n",
    "        \n",
    "        # first entry of convolutions with gate\n",
    "        self.first_conv_gated = nn.Conv2d(1, num_filters, kernel, padding=(2, 0))\n",
    "        \n",
    "        # add bias to first convolutional layer with gate\n",
    "        self.bias_first_conv_gated = nn.Conv2d(1, num_filters, kernel, padding=(2, 0))\n",
    "        \n",
    "        # define function for convolution stack\n",
    "        self.convolve = nn.ModuleList([nn.Conv2d(num_filters, num_filters, (kernel[0], 1), padding=(2, 0)) for _ in range(n_layers)])\n",
    "        \n",
    "        # define bias for convolution stack\n",
    "        self.bias_convolve = nn.ParameterList([nn.Parameter(torch.randn(1, num_filters, 1, 1)) for _ in range(n_layers)])\n",
    "        \n",
    "        # define function for convolution stack with gate\n",
    "        self.convolve_gate = nn.ModuleList([nn.Conv2d(num_filters, num_filters, (kernel[0], 1), padding=(2, 0)) for _ in range(n_layers)])\n",
    "        \n",
    "        # define bias for convolution stack with gate\n",
    "        self.bias_convolve_gate = nn.ModuleList([nn.Conv2d(num_filters, num_filters, (kernel[0], 1), padding=(2, 0)) for _ in range(n_layers)])\n",
    "\n",
    "        # final decoder to vocab size\n",
    "        self.fc = nn.Linear(num_filters * seq_len, vocab_size)\n",
    "        \n",
    "    def forward(self, x):\n",
    "        batch_size = x.size(0)\n",
    "        sequence_length = x.size(1)\n",
    "        x = self.embedding(x)\n",
    "        \n",
    "        # add another dimension\n",
    "        x = x.unsqueeze(1)\n",
    "        \n",
    "        # do the convolution and add the bias\n",
    "        without_gate = self.first_conv(x)\n",
    "        without_gate += self.bias_first_conv.repeat(1, 1, seq_len, 1)\n",
    "        \n",
    "        # repeating the bias tensor seq_len times\n",
    "        \n",
    "        with_gate = self.first_conv_gated(x)\n",
    "        with_gate += self.bias_first_conv_gated(1, 1, seq_len, 1)\n",
    "        \n",
    "        h = without_gate * F.sigmoid(with_gate)\n",
    "        res_input = h \n",
    "        \n",
    "        # applying idea of resnets here\n",
    "\n",
    "        for i, (conv, conv_gate) in enumerate(zip(self.convolve, self.convolve_gate)):\n",
    "            A = conv(h) + self.bias_convolve[i].repeat(1, 1, seq_len, 1)\n",
    "            B = conv_gate(h) + self.bias_convolve_gate[i].repeat(1, 1, seq_len, 1)\n",
    "            h = A * F.sigmoid(B) \n",
    "            if i % self.res_block_count == 0: # size of each residual block\n",
    "                h += res_input\n",
    "                res_input = h\n",
    "\n",
    "        h = h.view(batch_size, -1) \n",
    "        out = self.fc(h) \n",
    "        out = F.log_softmax(out, dim = 1)\n",
    "\n",
    "        return out"
   ]
  },
  {
   "cell_type": "code",
   "execution_count": null,
   "metadata": {},
   "outputs": [],
   "source": [
    "vocab_size      = 2000\n",
    "embed_size       = 200\n",
    "seq_len         = 17\n",
    "n_layers        = 10\n",
    "kernel_size     = (5, embed_size)\n",
    "num_filters     = 64\n",
    "res_block_count = 5\n",
    "batch_size      = 64"
   ]
  },
  {
   "cell_type": "markdown",
   "metadata": {},
   "source": [
    "Read the file and encode the words. Finally split the dataset."
   ]
  },
  {
   "cell_type": "code",
   "execution_count": null,
   "metadata": {},
   "outputs": [],
   "source": [
    "words = read_words('./data', seq_len, kernel[0])\n",
    "\n",
    "# encoding matrix, extract most popular words\n",
    "word_counter = collections.Counter(words).most_common(vocab_size - 1)\n",
    "vocab = [w for w, _ in word_counter]\n",
    "\n",
    "# assign word IDs\n",
    "word_ids = dict((w, i) for i, w in enumerate(vocab, 1))\n",
    "word_ids['<unk>'] = 0\n",
    "\n",
    "# read files\n",
    "data = [word_ids[w] if w in word_ids else 0 for w in words]\n",
    "data = create_batches(data, batch_size, seq_len)\n",
    "split_idx = int(len(data) * 0.8)\n",
    "training_data = data[:split_idx]\n",
    "test_data = data[split_idx:]"
   ]
  },
  {
   "cell_type": "markdown",
   "metadata": {},
   "source": [
    "## Train Loop"
   ]
  },
  {
   "cell_type": "code",
   "execution_count": null,
   "metadata": {},
   "outputs": [],
   "source": [
    "def train(model, data, test_data, optimizer, loss_fn, epochs = 10):\n",
    "    model.train()\n",
    "    for epoch in range(epochs):\n",
    "        print('Epoch', epoch)\n",
    "        random.shuffle(data)\n",
    "        for batch_ct, (X, Y) in enumerate(data):\n",
    "            X = to_var(torch.LongTensor(X)) \n",
    "            Y = to_var(torch.LongTensor(Y)) \n",
    "            pred = model(X) \n",
    "            loss = loss_fn(pred, Y)\n",
    "            \n",
    "            if batch_ct % 100 == 0:\n",
    "                print('Training Loss: {:.4f} Perplexity: {:.4f}'.format(loss.item(), np.exp(loss.item())))\n",
    "\n",
    "            model.zero_grad()\n",
    "            loss.backward()\n",
    "            optimizer.step()\n",
    "        print('Test set performance', epoch)\n",
    "        test(model, test_data)"
   ]
  },
  {
   "cell_type": "markdown",
   "metadata": {},
   "source": [
    "## Test Loop"
   ]
  },
  {
   "cell_type": "code",
   "execution_count": null,
   "metadata": {},
   "outputs": [],
   "source": [
    "def test(model, data):\n",
    "    model.eval()\n",
    "    counter = 0\n",
    "    correct = 0\n",
    "    losses = 0.0\n",
    "    for batch_ct, (X, Y) in enumerate(data):\n",
    "        X = to_var(torch.LongTensor(X)) \n",
    "        Y = to_var(torch.LongTensor(Y)) \n",
    "        pred = model(X) # \n",
    "        loss = loss_fn(pred, Y)\n",
    "        losses += torch.sum(loss).item() # Accumulative averages\n",
    "        _, pred_ids = torch.max(pred, 1)\n",
    "        print('Loss: {:.4f}'.format(loss.item()))\n",
    "        correct += torch.sum(pred_ids == Y).item()\n",
    "        counter += 1\n",
    "\n",
    "    loss = losses/counter\n",
    "    ppl = np.exp(loss)\n",
    "    print('Test Loss: {:.4f} Perplexity: {:.4f}'.format(losses/counter, ppl))"
   ]
  },
  {
   "cell_type": "code",
   "execution_count": null,
   "metadata": {},
   "outputs": [],
   "source": [
    "model = GatedCNN(seq_len, vocab_size, embed_size, n_layers, kernel_size, num_layers, res_block_count)\n",
    "optimizer = torch.optim.Adadelta(model.parameters())\n",
    "loss_fn = nn.CrossEntropyLoss()\n",
    "train(model, training_data, test_data, optimizer, loss_fn)"
   ]
  },
  {
   "cell_type": "markdown",
   "metadata": {},
   "source": [
    "After 10 epochs, we get around 105.03 perplexity.\n",
    "\n",
    "I am still unclear from the paper as how to approach for variable lengths.\n",
    "\n",
    "If I submitted a paper like this in ACL, it will be outright rejected for \"lack of motivation\"."
   ]
  }
 ],
 "metadata": {
  "kernelspec": {
   "display_name": "Python 3",
   "language": "python",
   "name": "python3"
  },
  "language_info": {
   "codemirror_mode": {
    "name": "ipython",
    "version": 3
   },
   "file_extension": ".py",
   "mimetype": "text/x-python",
   "name": "python",
   "nbconvert_exporter": "python",
   "pygments_lexer": "ipython3",
   "version": "3.5.2"
  }
 },
 "nbformat": 4,
 "nbformat_minor": 2
}
